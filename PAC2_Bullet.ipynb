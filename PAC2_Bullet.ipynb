{
 "cells": [
  {
   "cell_type": "code",
   "execution_count": 4,
   "id": "dd6ded49-233a-4300-91ce-f8b81d057fc3",
   "metadata": {},
   "outputs": [
    {
     "data": {
      "text/html": [
       "<div>\n",
       "<style scoped>\n",
       "    .dataframe tbody tr th:only-of-type {\n",
       "        vertical-align: middle;\n",
       "    }\n",
       "\n",
       "    .dataframe tbody tr th {\n",
       "        vertical-align: top;\n",
       "    }\n",
       "\n",
       "    .dataframe thead th {\n",
       "        text-align: right;\n",
       "    }\n",
       "</style>\n",
       "<table border=\"1\" class=\"dataframe\">\n",
       "  <thead>\n",
       "    <tr style=\"text-align: right;\">\n",
       "      <th></th>\n",
       "      <th>Unnamed: 0</th>\n",
       "      <th>Language</th>\n",
       "      <th>Family</th>\n",
       "      <th>Branch</th>\n",
       "      <th>First-language(L1) speakers</th>\n",
       "      <th>Second-language(L2) speakers</th>\n",
       "      <th>Total speakers(L1+L2)</th>\n",
       "    </tr>\n",
       "  </thead>\n",
       "  <tbody>\n",
       "    <tr>\n",
       "      <th>0</th>\n",
       "      <td>0</td>\n",
       "      <td>English(excl. creole languages)</td>\n",
       "      <td>Indo-European</td>\n",
       "      <td>Germanic</td>\n",
       "      <td>372.9</td>\n",
       "      <td>1.080 billion[5]</td>\n",
       "      <td>1.452 billion</td>\n",
       "    </tr>\n",
       "    <tr>\n",
       "      <th>1</th>\n",
       "      <td>1</td>\n",
       "      <td>Mandarin Chinese(incl. Standard Chinese, but e...</td>\n",
       "      <td>Sino-Tibetan</td>\n",
       "      <td>Sinitic</td>\n",
       "      <td>929.0</td>\n",
       "      <td>198.7 million[6]</td>\n",
       "      <td>1.118 billion</td>\n",
       "    </tr>\n",
       "    <tr>\n",
       "      <th>2</th>\n",
       "      <td>2</td>\n",
       "      <td>Hindi(excl. Urdu)</td>\n",
       "      <td>Indo-European</td>\n",
       "      <td>Indo-Aryan</td>\n",
       "      <td>343.9</td>\n",
       "      <td>258.3 million[7]</td>\n",
       "      <td>602.2 million</td>\n",
       "    </tr>\n",
       "    <tr>\n",
       "      <th>3</th>\n",
       "      <td>3</td>\n",
       "      <td>Spanish</td>\n",
       "      <td>Indo-European</td>\n",
       "      <td>Romance</td>\n",
       "      <td>474.7</td>\n",
       "      <td>73.6 million[8]</td>\n",
       "      <td>548.3 million</td>\n",
       "    </tr>\n",
       "    <tr>\n",
       "      <th>4</th>\n",
       "      <td>4</td>\n",
       "      <td>French</td>\n",
       "      <td>Indo-European</td>\n",
       "      <td>Romance</td>\n",
       "      <td>79.9</td>\n",
       "      <td>194.2 million[9]</td>\n",
       "      <td>274.1 million</td>\n",
       "    </tr>\n",
       "  </tbody>\n",
       "</table>\n",
       "</div>"
      ],
      "text/plain": [
       "   Unnamed: 0                                           Language  \\\n",
       "0           0                    English(excl. creole languages)   \n",
       "1           1  Mandarin Chinese(incl. Standard Chinese, but e...   \n",
       "2           2                                  Hindi(excl. Urdu)   \n",
       "3           3                                            Spanish   \n",
       "4           4                                             French   \n",
       "\n",
       "          Family      Branch  First-language(L1) speakers  \\\n",
       "0  Indo-European    Germanic                        372.9   \n",
       "1   Sino-Tibetan     Sinitic                        929.0   \n",
       "2  Indo-European  Indo-Aryan                        343.9   \n",
       "3  Indo-European     Romance                        474.7   \n",
       "4  Indo-European     Romance                         79.9   \n",
       "\n",
       "  Second-language(L2) speakers Total speakers(L1+L2)  \n",
       "0             1.080 billion[5]         1.452 billion  \n",
       "1             198.7 million[6]         1.118 billion  \n",
       "2             258.3 million[7]         602.2 million  \n",
       "3              73.6 million[8]         548.3 million  \n",
       "4             194.2 million[9]         274.1 million  "
      ]
     },
     "execution_count": 4,
     "metadata": {},
     "output_type": "execute_result"
    }
   ],
   "source": [
    "import pandas as pd\n",
    "\n",
    "# Font: https://www.kaggle.com/datasets/uom190346a/sleep-health-and-lifestyle-dataset\n",
    "\n",
    "file = \"data/List of languages by total number of speakers.csv\"\n",
    "df = pd.read_csv(file)\n",
    "\n",
    "df[\"First-language(L1) speakers\"] = df[\"First-language(L1) speakers\"].str.replace(\" million\", \"\")\n",
    "df[\"First-language(L1) speakers\"] = pd.to_numeric(df[\"First-language(L1) speakers\"], errors='coerce')\n",
    "\n",
    "df.head()"
   ]
  },
  {
   "cell_type": "code",
   "execution_count": 52,
   "id": "dd213208",
   "metadata": {},
   "outputs": [
    {
     "data": {
      "application/vnd.plotly.v1+json": {
       "config": {
        "plotlyServerURL": "https://plot.ly"
       },
       "data": [
        {
         "branchvalues": "total",
         "customdata": {
          "bdata": "ZmZmZmZOd0AAAAAAAAiNQGZmZmZmfnVAMzMzMzOrfUCamZmZmflTQAAAAAAAAPj/ZmZmZmY2bUAAAAAAAEBjQM3MzMzMDG1AzczMzMyMUUDNzMzMzMxFQGZmZmZm5lJAMzMzMzNTX0DNzMzMzMwSQGZmZmZmxlRAzczMzMysVEDNzMzMzIxUQJqZmZmZmVNAzczMzMxMVUBmZmZmZiZVQDMzMzMzMzxAzczMzMxsVEAAAAAAAAD4/zMzMzMzM0xAZmZmZmZmSUAAAAAAAAD4/5qZmZmZGTBAAAAAAAAA+P8zMzMzMzNQQAAAAAAAAPj/zczMzMxMSEAAAAAAAIBMQDMzMzMzszRAMzMzMzMzQEBlZmZmZiZKQM3MzMzMDEhAZmZmZmamSEAAAAAAAAD4/83MzMzMzEVAZmZmZmbmRUAAAAAAAIBAQGZmZmZmpkBAAAAAAAAARECamZmZmVlBQM3MzMzMTDRAyXjjupUsdEDGnyhv2SmHQBQQ5msgKWtAJB++FwdGdUDnnsOXKL9AQDoq8MXVT2BAzczMzMzMRUAzMzMzM1NfQM3MzMzMzBJAzczMzMysVEDNzMzMzIxUQFUvgxPCv1BAZmZmZmYmVUAzMzMzMzM8QAAAAAAAAPj/MzMzMzMzTEBmZmZmZmZJQJqZmZmZGTBAMzMzMzOzNECdB5PvVhlCQAAAAAAAgEBAyXjjupUsdEDGnyhv2SmHQBQQ5msgKWtAJB++FwdGdUDnnsOXKL9AQDoq8MXVT2BAzczMzMzMRUAzMzMzM1NfQM3MzMzMzBJAzczMzMysVEDNzMzMzIxUQFUvgxPCv1BAZmZmZmYmVUAzMzMzMzM8QDMzMzMzM0xAZmZmZmZmSUCamZmZmRkwQDMzMzMzszRAnQeT71YZQkAAAAAAAIBAQA==",
          "dtype": "f8",
          "shape": "86, 1"
         },
         "domain": {
          "x": [
           0,
           1
          ],
          "y": [
           0,
           1
          ]
         },
         "hovertemplate": "labels=%{label}<br>First-language(L1) speakers_sum=%{value}<br>parent=%{parent}<br>id=%{id}<br>First-language(L1) speakers=%{color}<extra></extra>",
         "ids": [
          "Germanic/Indo-European/English(excl. creole languages)",
          "Sinitic/Sino-Tibetan/Mandarin Chinese(incl. Standard Chinese, but excl. other varieties)",
          "Indo-Aryan/Indo-European/Hindi(excl. Urdu)",
          "Romance/Indo-European/Spanish",
          "Romance/Indo-European/French",
          "Semitic/Afro-Asiatic/Modern Standard Arabic(excl. dialects)",
          "Indo-Aryan/Indo-European/Bengali",
          "Balto-Slavic/Indo-European/Russian",
          "Romance/Indo-European/Portuguese",
          "Indo-Aryan/Indo-European/Urdu(excl. Hindi)",
          "Malayo-Polynesian/Austronesian/Indonesian(excl. Malay)",
          "Germanic/Indo-European/Standard German",
          "—/Japonic/Japanese",
          "Krio/English Creole/Nigerian Pidgin",
          "Indo-Aryan/Indo-European/Marathi",
          "South-Central/Dravidian/Telugu",
          "Oghuz/Turkic/Turkish",
          "Southern/Dravidian/Tamil",
          "Sinitic/Sino-Tibetan/Yue Chinese(incl. Cantonese)",
          "Vietic/Austroasiatic/Vietnamese",
          "Central Philippine/Austronesian/Tagalog[b]",
          "Sinitic/Sino-Tibetan/Wu Chinese(incl. Shanghainese)",
          "—/Koreanic/Korean",
          "Iranian/Indo-European/Iranian Persian(excl. Dari and Tajik)",
          "Chadic/Afro-Asiatic/Hausa",
          "Semitic/Afro-Asiatic/Egyptian Spoken Arabic(excl. other Arabic dialects)",
          "Bantu/Niger–Congo/Swahili",
          "Malayo-Polynesian/Austronesian/Javanese",
          "Romance/Indo-European/Italian",
          "Indo-Aryan/Indo-European/Western Punjabi(excl. Eastern Punjabi)",
          "Southern/Dravidian/Kannada",
          "Indo-Aryan/Indo-European/Gujarati",
          "Zhuang–Tai/Kra–Dai/Thai",
          "Semitic/Afro-Asiatic/Amharic",
          "Indo-Aryan/Indo-European/Bhojpuri",
          "Indo-Aryan/Indo-European/Eastern Punjabi(excl. Western Punjabi)",
          "Sinitic/Sino-Tibetan/Min Nan Chinese(incl. Hokkien)",
          "Sinitic/Sino-Tibetan/Jin Chinese",
          "Atlantic–Congo/Niger–Congo/Yoruba",
          "Sinitic/Sino-Tibetan/Hakka Chinese",
          "Tibeto-Burman/Sino-Tibetan/Burmese",
          "Semitic/Afro-Asiatic/Sudanese Spoken Arabic",
          "Balto-Slavic/Indo-European/Polish",
          "Semitic/Afro-Asiatic/Algerian Spoken Arabic",
          "Atlantic–Congo/Niger–Congo/Lingala",
          "Germanic/Indo-European",
          "Sinitic/Sino-Tibetan",
          "Indo-Aryan/Indo-European",
          "Romance/Indo-European",
          "Semitic/Afro-Asiatic",
          "Balto-Slavic/Indo-European",
          "Malayo-Polynesian/Austronesian",
          "—/Japonic",
          "Krio/English Creole",
          "South-Central/Dravidian",
          "Oghuz/Turkic",
          "Southern/Dravidian",
          "Vietic/Austroasiatic",
          "Central Philippine/Austronesian",
          "—/Koreanic",
          "Iranian/Indo-European",
          "Chadic/Afro-Asiatic",
          "Bantu/Niger–Congo",
          "Zhuang–Tai/Kra–Dai",
          "Atlantic–Congo/Niger–Congo",
          "Tibeto-Burman/Sino-Tibetan",
          "Germanic",
          "Sinitic",
          "Indo-Aryan",
          "Romance",
          "Semitic",
          "Balto-Slavic",
          "Malayo-Polynesian",
          "—",
          "Krio",
          "South-Central",
          "Oghuz",
          "Southern",
          "Vietic",
          "Central Philippine",
          "Iranian",
          "Chadic",
          "Bantu",
          "Zhuang–Tai",
          "Atlantic–Congo",
          "Tibeto-Burman"
         ],
         "labels": [
          "English(excl. creole languages)",
          "Mandarin Chinese(incl. Standard Chinese, but excl. other varieties)",
          "Hindi(excl. Urdu)",
          "Spanish",
          "French",
          "Modern Standard Arabic(excl. dialects)",
          "Bengali",
          "Russian",
          "Portuguese",
          "Urdu(excl. Hindi)",
          "Indonesian(excl. Malay)",
          "Standard German",
          "Japanese",
          "Nigerian Pidgin",
          "Marathi",
          "Telugu",
          "Turkish",
          "Tamil",
          "Yue Chinese(incl. Cantonese)",
          "Vietnamese",
          "Tagalog[b]",
          "Wu Chinese(incl. Shanghainese)",
          "Korean",
          "Iranian Persian(excl. Dari and Tajik)",
          "Hausa",
          "Egyptian Spoken Arabic(excl. other Arabic dialects)",
          "Swahili",
          "Javanese",
          "Italian",
          "Western Punjabi(excl. Eastern Punjabi)",
          "Kannada",
          "Gujarati",
          "Thai",
          "Amharic",
          "Bhojpuri",
          "Eastern Punjabi(excl. Western Punjabi)",
          "Min Nan Chinese(incl. Hokkien)",
          "Jin Chinese",
          "Yoruba",
          "Hakka Chinese",
          "Burmese",
          "Sudanese Spoken Arabic",
          "Polish",
          "Algerian Spoken Arabic",
          "Lingala",
          "Indo-European",
          "Sino-Tibetan",
          "Indo-European",
          "Indo-European",
          "Afro-Asiatic",
          "Indo-European",
          "Austronesian",
          "Japonic",
          "English Creole",
          "Dravidian",
          "Turkic",
          "Dravidian",
          "Austroasiatic",
          "Austronesian",
          "Koreanic",
          "Indo-European",
          "Afro-Asiatic",
          "Niger–Congo",
          "Kra–Dai",
          "Niger–Congo",
          "Sino-Tibetan",
          "Germanic",
          "Sinitic",
          "Indo-Aryan",
          "Romance",
          "Semitic",
          "Balto-Slavic",
          "Malayo-Polynesian",
          "—",
          "Krio",
          "South-Central",
          "Oghuz",
          "Southern",
          "Vietic",
          "Central Philippine",
          "Iranian",
          "Chadic",
          "Bantu",
          "Zhuang–Tai",
          "Atlantic–Congo",
          "Tibeto-Burman"
         ],
         "marker": {
          "coloraxis": "coloraxis",
          "colors": {
           "bdata": "ZmZmZmZOd0AAAAAAAAiNQGZmZmZmfnVAMzMzMzOrfUCamZmZmflTQAAAAAAAAPj/ZmZmZmY2bUAAAAAAAEBjQM3MzMzMDG1AzczMzMyMUUDNzMzMzMxFQGZmZmZm5lJAMzMzMzNTX0DNzMzMzMwSQGZmZmZmxlRAzczMzMysVEDNzMzMzIxUQJqZmZmZmVNAzczMzMxMVUBmZmZmZiZVQDMzMzMzMzxAzczMzMxsVEAAAAAAAAD4/zMzMzMzM0xAZmZmZmZmSUAAAAAAAAD4/5qZmZmZGTBAAAAAAAAA+P8zMzMzMzNQQAAAAAAAAPj/zczMzMxMSEAAAAAAAIBMQDMzMzMzszRAMzMzMzMzQEBlZmZmZiZKQM3MzMzMDEhAZmZmZmamSEAAAAAAAAD4/83MzMzMzEVAZmZmZmbmRUAAAAAAAIBAQGZmZmZmpkBAAAAAAAAARECamZmZmVlBQM3MzMzMTDRAyXjjupUsdEDGnyhv2SmHQBQQ5msgKWtAJB++FwdGdUDnnsOXKL9AQDoq8MXVT2BAzczMzMzMRUAzMzMzM1NfQM3MzMzMzBJAzczMzMysVEDNzMzMzIxUQFUvgxPCv1BAZmZmZmYmVUAzMzMzMzM8QAAAAAAAAPj/MzMzMzMzTEBmZmZmZmZJQJqZmZmZGTBAMzMzMzOzNECdB5PvVhlCQAAAAAAAgEBAyXjjupUsdEDGnyhv2SmHQBQQ5msgKWtAJB++FwdGdUDnnsOXKL9AQDoq8MXVT2BAzczMzMzMRUAzMzMzM1NfQM3MzMzMzBJAzczMzMysVEDNzMzMzIxUQFUvgxPCv1BAZmZmZmYmVUAzMzMzMzM8QDMzMzMzM0xAZmZmZmZmSUCamZmZmRkwQDMzMzMzszRAnQeT71YZQkAAAAAAAIBAQA==",
           "dtype": "f8"
          }
         },
         "name": "",
         "parents": [
          "Germanic/Indo-European",
          "Sinitic/Sino-Tibetan",
          "Indo-Aryan/Indo-European",
          "Romance/Indo-European",
          "Romance/Indo-European",
          "Semitic/Afro-Asiatic",
          "Indo-Aryan/Indo-European",
          "Balto-Slavic/Indo-European",
          "Romance/Indo-European",
          "Indo-Aryan/Indo-European",
          "Malayo-Polynesian/Austronesian",
          "Germanic/Indo-European",
          "—/Japonic",
          "Krio/English Creole",
          "Indo-Aryan/Indo-European",
          "South-Central/Dravidian",
          "Oghuz/Turkic",
          "Southern/Dravidian",
          "Sinitic/Sino-Tibetan",
          "Vietic/Austroasiatic",
          "Central Philippine/Austronesian",
          "Sinitic/Sino-Tibetan",
          "—/Koreanic",
          "Iranian/Indo-European",
          "Chadic/Afro-Asiatic",
          "Semitic/Afro-Asiatic",
          "Bantu/Niger–Congo",
          "Malayo-Polynesian/Austronesian",
          "Romance/Indo-European",
          "Indo-Aryan/Indo-European",
          "Southern/Dravidian",
          "Indo-Aryan/Indo-European",
          "Zhuang–Tai/Kra–Dai",
          "Semitic/Afro-Asiatic",
          "Indo-Aryan/Indo-European",
          "Indo-Aryan/Indo-European",
          "Sinitic/Sino-Tibetan",
          "Sinitic/Sino-Tibetan",
          "Atlantic–Congo/Niger–Congo",
          "Sinitic/Sino-Tibetan",
          "Tibeto-Burman/Sino-Tibetan",
          "Semitic/Afro-Asiatic",
          "Balto-Slavic/Indo-European",
          "Semitic/Afro-Asiatic",
          "Atlantic–Congo/Niger–Congo",
          "Germanic",
          "Sinitic",
          "Indo-Aryan",
          "Romance",
          "Semitic",
          "Balto-Slavic",
          "Malayo-Polynesian",
          "—",
          "Krio",
          "South-Central",
          "Oghuz",
          "Southern",
          "Vietic",
          "Central Philippine",
          "—",
          "Iranian",
          "Chadic",
          "Bantu",
          "Zhuang–Tai",
          "Atlantic–Congo",
          "Tibeto-Burman",
          "",
          "",
          "",
          "",
          "",
          "",
          "",
          "",
          "",
          "",
          "",
          "",
          "",
          "",
          "",
          "",
          "",
          "",
          "",
          ""
         ],
         "type": "treemap",
         "values": {
          "bdata": "ZmZmZmZOd0AAAAAAAAiNQGZmZmZmfnVAMzMzMzOrfUCamZmZmflTQAAAAAAAAAAAZmZmZmY2bUAAAAAAAEBjQM3MzMzMDG1AzczMzMyMUUDNzMzMzMxFQGZmZmZm5lJAMzMzMzNTX0DNzMzMzMwSQGZmZmZmxlRAzczMzMysVEDNzMzMzIxUQJqZmZmZmVNAzczMzMxMVUBmZmZmZiZVQDMzMzMzMzxAzczMzMxsVEAAAAAAAAAAADMzMzMzM0xAZmZmZmZmSUAAAAAAAAAAAJqZmZmZGTBAAAAAAAAAAAAzMzMzMzNQQAAAAAAAAAAAzczMzMxMSEAAAAAAAIBMQDMzMzMzszRAMzMzMzMzQEBmZmZmZiZKQM3MzMzMDEhAZmZmZmamSEAAAAAAAAAAAM3MzMzMzEVAZmZmZmbmRUAAAAAAAIBAQGZmZmZmpkBAAAAAAAAARECamZmZmVlBQM3MzMzMTDRAAAAAAAAIfEAAAAAAAJSSQGZmZmZmwotAZmZmZmaeikCamZmZmRlZQAAAAAAAQGhAzczMzMzMRUAzMzMzM1NfQM3MzMzMzBJAzczMzMysVEDNzMzMzIxUQAAAAAAAwF9AZmZmZmYmVUAzMzMzMzM8QAAAAAAAAAAAMzMzMzMzTEBmZmZmZmZJQJqZmZmZGTBAMzMzMzOzNEA0MzMzM/NPQAAAAAAAgEBAAAAAAAAIfEAAAAAAAJSSQGZmZmZmwotAZmZmZmaeikCamZmZmRlZQAAAAAAAQGhAzczMzMzMRUAzMzMzM1NfQM3MzMzMzBJAzczMzMysVEDNzMzMzIxUQAAAAAAAwF9AZmZmZmYmVUAzMzMzMzM8QDMzMzMzM0xAZmZmZmZmSUCamZmZmRkwQDMzMzMzszRANDMzMzPzT0AAAAAAAIBAQA==",
          "dtype": "f8"
         }
        }
       ],
       "layout": {
        "coloraxis": {
         "colorbar": {
          "title": {
           "text": "First-language(L1) speakers"
          }
         },
         "colorscale": [
          [
           0,
           "rgb(228, 241, 225)"
          ],
          [
           0.16666666666666666,
           "rgb(180, 217, 204)"
          ],
          [
           0.3333333333333333,
           "rgb(137, 192, 182)"
          ],
          [
           0.5,
           "rgb(99, 166, 160)"
          ],
          [
           0.6666666666666666,
           "rgb(68, 140, 138)"
          ],
          [
           0.8333333333333334,
           "rgb(40, 114, 116)"
          ],
          [
           1,
           "rgb(13, 88, 95)"
          ]
         ]
        },
        "legend": {
         "tracegroupgap": 0
        },
        "template": {
         "data": {
          "bar": [
           {
            "error_x": {
             "color": "#2a3f5f"
            },
            "error_y": {
             "color": "#2a3f5f"
            },
            "marker": {
             "line": {
              "color": "#E5ECF6",
              "width": 0.5
             },
             "pattern": {
              "fillmode": "overlay",
              "size": 10,
              "solidity": 0.2
             }
            },
            "type": "bar"
           }
          ],
          "barpolar": [
           {
            "marker": {
             "line": {
              "color": "#E5ECF6",
              "width": 0.5
             },
             "pattern": {
              "fillmode": "overlay",
              "size": 10,
              "solidity": 0.2
             }
            },
            "type": "barpolar"
           }
          ],
          "carpet": [
           {
            "aaxis": {
             "endlinecolor": "#2a3f5f",
             "gridcolor": "white",
             "linecolor": "white",
             "minorgridcolor": "white",
             "startlinecolor": "#2a3f5f"
            },
            "baxis": {
             "endlinecolor": "#2a3f5f",
             "gridcolor": "white",
             "linecolor": "white",
             "minorgridcolor": "white",
             "startlinecolor": "#2a3f5f"
            },
            "type": "carpet"
           }
          ],
          "choropleth": [
           {
            "colorbar": {
             "outlinewidth": 0,
             "ticks": ""
            },
            "type": "choropleth"
           }
          ],
          "contour": [
           {
            "colorbar": {
             "outlinewidth": 0,
             "ticks": ""
            },
            "colorscale": [
             [
              0,
              "#0d0887"
             ],
             [
              0.1111111111111111,
              "#46039f"
             ],
             [
              0.2222222222222222,
              "#7201a8"
             ],
             [
              0.3333333333333333,
              "#9c179e"
             ],
             [
              0.4444444444444444,
              "#bd3786"
             ],
             [
              0.5555555555555556,
              "#d8576b"
             ],
             [
              0.6666666666666666,
              "#ed7953"
             ],
             [
              0.7777777777777778,
              "#fb9f3a"
             ],
             [
              0.8888888888888888,
              "#fdca26"
             ],
             [
              1,
              "#f0f921"
             ]
            ],
            "type": "contour"
           }
          ],
          "contourcarpet": [
           {
            "colorbar": {
             "outlinewidth": 0,
             "ticks": ""
            },
            "type": "contourcarpet"
           }
          ],
          "heatmap": [
           {
            "colorbar": {
             "outlinewidth": 0,
             "ticks": ""
            },
            "colorscale": [
             [
              0,
              "#0d0887"
             ],
             [
              0.1111111111111111,
              "#46039f"
             ],
             [
              0.2222222222222222,
              "#7201a8"
             ],
             [
              0.3333333333333333,
              "#9c179e"
             ],
             [
              0.4444444444444444,
              "#bd3786"
             ],
             [
              0.5555555555555556,
              "#d8576b"
             ],
             [
              0.6666666666666666,
              "#ed7953"
             ],
             [
              0.7777777777777778,
              "#fb9f3a"
             ],
             [
              0.8888888888888888,
              "#fdca26"
             ],
             [
              1,
              "#f0f921"
             ]
            ],
            "type": "heatmap"
           }
          ],
          "histogram": [
           {
            "marker": {
             "pattern": {
              "fillmode": "overlay",
              "size": 10,
              "solidity": 0.2
             }
            },
            "type": "histogram"
           }
          ],
          "histogram2d": [
           {
            "colorbar": {
             "outlinewidth": 0,
             "ticks": ""
            },
            "colorscale": [
             [
              0,
              "#0d0887"
             ],
             [
              0.1111111111111111,
              "#46039f"
             ],
             [
              0.2222222222222222,
              "#7201a8"
             ],
             [
              0.3333333333333333,
              "#9c179e"
             ],
             [
              0.4444444444444444,
              "#bd3786"
             ],
             [
              0.5555555555555556,
              "#d8576b"
             ],
             [
              0.6666666666666666,
              "#ed7953"
             ],
             [
              0.7777777777777778,
              "#fb9f3a"
             ],
             [
              0.8888888888888888,
              "#fdca26"
             ],
             [
              1,
              "#f0f921"
             ]
            ],
            "type": "histogram2d"
           }
          ],
          "histogram2dcontour": [
           {
            "colorbar": {
             "outlinewidth": 0,
             "ticks": ""
            },
            "colorscale": [
             [
              0,
              "#0d0887"
             ],
             [
              0.1111111111111111,
              "#46039f"
             ],
             [
              0.2222222222222222,
              "#7201a8"
             ],
             [
              0.3333333333333333,
              "#9c179e"
             ],
             [
              0.4444444444444444,
              "#bd3786"
             ],
             [
              0.5555555555555556,
              "#d8576b"
             ],
             [
              0.6666666666666666,
              "#ed7953"
             ],
             [
              0.7777777777777778,
              "#fb9f3a"
             ],
             [
              0.8888888888888888,
              "#fdca26"
             ],
             [
              1,
              "#f0f921"
             ]
            ],
            "type": "histogram2dcontour"
           }
          ],
          "mesh3d": [
           {
            "colorbar": {
             "outlinewidth": 0,
             "ticks": ""
            },
            "type": "mesh3d"
           }
          ],
          "parcoords": [
           {
            "line": {
             "colorbar": {
              "outlinewidth": 0,
              "ticks": ""
             }
            },
            "type": "parcoords"
           }
          ],
          "pie": [
           {
            "automargin": true,
            "type": "pie"
           }
          ],
          "scatter": [
           {
            "fillpattern": {
             "fillmode": "overlay",
             "size": 10,
             "solidity": 0.2
            },
            "type": "scatter"
           }
          ],
          "scatter3d": [
           {
            "line": {
             "colorbar": {
              "outlinewidth": 0,
              "ticks": ""
             }
            },
            "marker": {
             "colorbar": {
              "outlinewidth": 0,
              "ticks": ""
             }
            },
            "type": "scatter3d"
           }
          ],
          "scattercarpet": [
           {
            "marker": {
             "colorbar": {
              "outlinewidth": 0,
              "ticks": ""
             }
            },
            "type": "scattercarpet"
           }
          ],
          "scattergeo": [
           {
            "marker": {
             "colorbar": {
              "outlinewidth": 0,
              "ticks": ""
             }
            },
            "type": "scattergeo"
           }
          ],
          "scattergl": [
           {
            "marker": {
             "colorbar": {
              "outlinewidth": 0,
              "ticks": ""
             }
            },
            "type": "scattergl"
           }
          ],
          "scattermap": [
           {
            "marker": {
             "colorbar": {
              "outlinewidth": 0,
              "ticks": ""
             }
            },
            "type": "scattermap"
           }
          ],
          "scattermapbox": [
           {
            "marker": {
             "colorbar": {
              "outlinewidth": 0,
              "ticks": ""
             }
            },
            "type": "scattermapbox"
           }
          ],
          "scatterpolar": [
           {
            "marker": {
             "colorbar": {
              "outlinewidth": 0,
              "ticks": ""
             }
            },
            "type": "scatterpolar"
           }
          ],
          "scatterpolargl": [
           {
            "marker": {
             "colorbar": {
              "outlinewidth": 0,
              "ticks": ""
             }
            },
            "type": "scatterpolargl"
           }
          ],
          "scatterternary": [
           {
            "marker": {
             "colorbar": {
              "outlinewidth": 0,
              "ticks": ""
             }
            },
            "type": "scatterternary"
           }
          ],
          "surface": [
           {
            "colorbar": {
             "outlinewidth": 0,
             "ticks": ""
            },
            "colorscale": [
             [
              0,
              "#0d0887"
             ],
             [
              0.1111111111111111,
              "#46039f"
             ],
             [
              0.2222222222222222,
              "#7201a8"
             ],
             [
              0.3333333333333333,
              "#9c179e"
             ],
             [
              0.4444444444444444,
              "#bd3786"
             ],
             [
              0.5555555555555556,
              "#d8576b"
             ],
             [
              0.6666666666666666,
              "#ed7953"
             ],
             [
              0.7777777777777778,
              "#fb9f3a"
             ],
             [
              0.8888888888888888,
              "#fdca26"
             ],
             [
              1,
              "#f0f921"
             ]
            ],
            "type": "surface"
           }
          ],
          "table": [
           {
            "cells": {
             "fill": {
              "color": "#EBF0F8"
             },
             "line": {
              "color": "white"
             }
            },
            "header": {
             "fill": {
              "color": "#C8D4E3"
             },
             "line": {
              "color": "white"
             }
            },
            "type": "table"
           }
          ]
         },
         "layout": {
          "annotationdefaults": {
           "arrowcolor": "#2a3f5f",
           "arrowhead": 0,
           "arrowwidth": 1
          },
          "autotypenumbers": "strict",
          "coloraxis": {
           "colorbar": {
            "outlinewidth": 0,
            "ticks": ""
           }
          },
          "colorscale": {
           "diverging": [
            [
             0,
             "#8e0152"
            ],
            [
             0.1,
             "#c51b7d"
            ],
            [
             0.2,
             "#de77ae"
            ],
            [
             0.3,
             "#f1b6da"
            ],
            [
             0.4,
             "#fde0ef"
            ],
            [
             0.5,
             "#f7f7f7"
            ],
            [
             0.6,
             "#e6f5d0"
            ],
            [
             0.7,
             "#b8e186"
            ],
            [
             0.8,
             "#7fbc41"
            ],
            [
             0.9,
             "#4d9221"
            ],
            [
             1,
             "#276419"
            ]
           ],
           "sequential": [
            [
             0,
             "#0d0887"
            ],
            [
             0.1111111111111111,
             "#46039f"
            ],
            [
             0.2222222222222222,
             "#7201a8"
            ],
            [
             0.3333333333333333,
             "#9c179e"
            ],
            [
             0.4444444444444444,
             "#bd3786"
            ],
            [
             0.5555555555555556,
             "#d8576b"
            ],
            [
             0.6666666666666666,
             "#ed7953"
            ],
            [
             0.7777777777777778,
             "#fb9f3a"
            ],
            [
             0.8888888888888888,
             "#fdca26"
            ],
            [
             1,
             "#f0f921"
            ]
           ],
           "sequentialminus": [
            [
             0,
             "#0d0887"
            ],
            [
             0.1111111111111111,
             "#46039f"
            ],
            [
             0.2222222222222222,
             "#7201a8"
            ],
            [
             0.3333333333333333,
             "#9c179e"
            ],
            [
             0.4444444444444444,
             "#bd3786"
            ],
            [
             0.5555555555555556,
             "#d8576b"
            ],
            [
             0.6666666666666666,
             "#ed7953"
            ],
            [
             0.7777777777777778,
             "#fb9f3a"
            ],
            [
             0.8888888888888888,
             "#fdca26"
            ],
            [
             1,
             "#f0f921"
            ]
           ]
          },
          "colorway": [
           "#636efa",
           "#EF553B",
           "#00cc96",
           "#ab63fa",
           "#FFA15A",
           "#19d3f3",
           "#FF6692",
           "#B6E880",
           "#FF97FF",
           "#FECB52"
          ],
          "font": {
           "color": "#2a3f5f"
          },
          "geo": {
           "bgcolor": "white",
           "lakecolor": "white",
           "landcolor": "#E5ECF6",
           "showlakes": true,
           "showland": true,
           "subunitcolor": "white"
          },
          "hoverlabel": {
           "align": "left"
          },
          "hovermode": "closest",
          "mapbox": {
           "style": "light"
          },
          "paper_bgcolor": "white",
          "plot_bgcolor": "#E5ECF6",
          "polar": {
           "angularaxis": {
            "gridcolor": "white",
            "linecolor": "white",
            "ticks": ""
           },
           "bgcolor": "#E5ECF6",
           "radialaxis": {
            "gridcolor": "white",
            "linecolor": "white",
            "ticks": ""
           }
          },
          "scene": {
           "xaxis": {
            "backgroundcolor": "#E5ECF6",
            "gridcolor": "white",
            "gridwidth": 2,
            "linecolor": "white",
            "showbackground": true,
            "ticks": "",
            "zerolinecolor": "white"
           },
           "yaxis": {
            "backgroundcolor": "#E5ECF6",
            "gridcolor": "white",
            "gridwidth": 2,
            "linecolor": "white",
            "showbackground": true,
            "ticks": "",
            "zerolinecolor": "white"
           },
           "zaxis": {
            "backgroundcolor": "#E5ECF6",
            "gridcolor": "white",
            "gridwidth": 2,
            "linecolor": "white",
            "showbackground": true,
            "ticks": "",
            "zerolinecolor": "white"
           }
          },
          "shapedefaults": {
           "line": {
            "color": "#2a3f5f"
           }
          },
          "ternary": {
           "aaxis": {
            "gridcolor": "white",
            "linecolor": "white",
            "ticks": ""
           },
           "baxis": {
            "gridcolor": "white",
            "linecolor": "white",
            "ticks": ""
           },
           "bgcolor": "#E5ECF6",
           "caxis": {
            "gridcolor": "white",
            "linecolor": "white",
            "ticks": ""
           }
          },
          "title": {
           "x": 0.05
          },
          "xaxis": {
           "automargin": true,
           "gridcolor": "white",
           "linecolor": "white",
           "ticks": "",
           "title": {
            "standoff": 15
           },
           "zerolinecolor": "white",
           "zerolinewidth": 2
          },
          "yaxis": {
           "automargin": true,
           "gridcolor": "white",
           "linecolor": "white",
           "ticks": "",
           "title": {
            "standoff": 15
           },
           "zerolinecolor": "white",
           "zerolinewidth": 2
          }
         }
        },
        "title": {
         "text": "Idiomes més parlats al mon (x milions de parlants com a llengua materna)"
        }
       }
      }
     },
     "metadata": {},
     "output_type": "display_data"
    }
   ],
   "source": [
    "import plotly.express as px\n",
    "\n",
    "# Creem un Treemap\n",
    "fig = px.treemap(df, path=[\"Branch\", \"Family\", \"Language\"], values=\"First-language(L1) speakers\",\n",
    "                 color=\"First-language(L1) speakers\", color_continuous_scale=px.colors.sequential.Mint, \n",
    "                 title=\"Idiomes més parlats al mon (x milions de parlants com a llengua materna)\")\n",
    "fig.show()"
   ]
  }
 ],
 "metadata": {
  "kernelspec": {
   "display_name": "python_3_11",
   "language": "python",
   "name": "python3"
  },
  "language_info": {
   "codemirror_mode": {
    "name": "ipython",
    "version": 3
   },
   "file_extension": ".py",
   "mimetype": "text/x-python",
   "name": "python",
   "nbconvert_exporter": "python",
   "pygments_lexer": "ipython3",
   "version": "3.11.11"
  }
 },
 "nbformat": 4,
 "nbformat_minor": 5
}
