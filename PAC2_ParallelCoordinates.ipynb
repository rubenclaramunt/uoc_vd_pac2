{
 "cells": [
  {
   "cell_type": "code",
   "execution_count": null,
   "id": "dd6ded49-233a-4300-91ce-f8b81d057fc3",
   "metadata": {},
   "outputs": [
    {
     "data": {
      "text/html": [
       "<div>\n",
       "<style scoped>\n",
       "    .dataframe tbody tr th:only-of-type {\n",
       "        vertical-align: middle;\n",
       "    }\n",
       "\n",
       "    .dataframe tbody tr th {\n",
       "        vertical-align: top;\n",
       "    }\n",
       "\n",
       "    .dataframe thead th {\n",
       "        text-align: right;\n",
       "    }\n",
       "</style>\n",
       "<table border=\"1\" class=\"dataframe\">\n",
       "  <thead>\n",
       "    <tr style=\"text-align: right;\">\n",
       "      <th></th>\n",
       "      <th>Person ID</th>\n",
       "      <th>Gender</th>\n",
       "      <th>Age</th>\n",
       "      <th>Occupation</th>\n",
       "      <th>Sleep Duration</th>\n",
       "      <th>Quality of Sleep</th>\n",
       "      <th>Physical Activity Level</th>\n",
       "      <th>Stress Level</th>\n",
       "      <th>BMI Category</th>\n",
       "      <th>Blood Pressure</th>\n",
       "      <th>Heart Rate</th>\n",
       "      <th>Daily Steps</th>\n",
       "      <th>Sleep Disorder</th>\n",
       "    </tr>\n",
       "  </thead>\n",
       "  <tbody>\n",
       "    <tr>\n",
       "      <th>0</th>\n",
       "      <td>1</td>\n",
       "      <td>Male</td>\n",
       "      <td>27</td>\n",
       "      <td>Software Engineer</td>\n",
       "      <td>6.1</td>\n",
       "      <td>6</td>\n",
       "      <td>42</td>\n",
       "      <td>6</td>\n",
       "      <td>Overweight</td>\n",
       "      <td>126/83</td>\n",
       "      <td>77</td>\n",
       "      <td>4200</td>\n",
       "      <td>NaN</td>\n",
       "    </tr>\n",
       "    <tr>\n",
       "      <th>1</th>\n",
       "      <td>2</td>\n",
       "      <td>Male</td>\n",
       "      <td>28</td>\n",
       "      <td>Doctor</td>\n",
       "      <td>6.2</td>\n",
       "      <td>6</td>\n",
       "      <td>60</td>\n",
       "      <td>8</td>\n",
       "      <td>Normal</td>\n",
       "      <td>125/80</td>\n",
       "      <td>75</td>\n",
       "      <td>10000</td>\n",
       "      <td>NaN</td>\n",
       "    </tr>\n",
       "    <tr>\n",
       "      <th>2</th>\n",
       "      <td>3</td>\n",
       "      <td>Male</td>\n",
       "      <td>28</td>\n",
       "      <td>Doctor</td>\n",
       "      <td>6.2</td>\n",
       "      <td>6</td>\n",
       "      <td>60</td>\n",
       "      <td>8</td>\n",
       "      <td>Normal</td>\n",
       "      <td>125/80</td>\n",
       "      <td>75</td>\n",
       "      <td>10000</td>\n",
       "      <td>NaN</td>\n",
       "    </tr>\n",
       "    <tr>\n",
       "      <th>3</th>\n",
       "      <td>4</td>\n",
       "      <td>Male</td>\n",
       "      <td>28</td>\n",
       "      <td>Sales Representative</td>\n",
       "      <td>5.9</td>\n",
       "      <td>4</td>\n",
       "      <td>30</td>\n",
       "      <td>8</td>\n",
       "      <td>Obese</td>\n",
       "      <td>140/90</td>\n",
       "      <td>85</td>\n",
       "      <td>3000</td>\n",
       "      <td>Sleep Apnea</td>\n",
       "    </tr>\n",
       "    <tr>\n",
       "      <th>4</th>\n",
       "      <td>5</td>\n",
       "      <td>Male</td>\n",
       "      <td>28</td>\n",
       "      <td>Sales Representative</td>\n",
       "      <td>5.9</td>\n",
       "      <td>4</td>\n",
       "      <td>30</td>\n",
       "      <td>8</td>\n",
       "      <td>Obese</td>\n",
       "      <td>140/90</td>\n",
       "      <td>85</td>\n",
       "      <td>3000</td>\n",
       "      <td>Sleep Apnea</td>\n",
       "    </tr>\n",
       "  </tbody>\n",
       "</table>\n",
       "</div>"
      ],
      "text/plain": [
       "   Person ID Gender  Age            Occupation  Sleep Duration  \\\n",
       "0          1   Male   27     Software Engineer             6.1   \n",
       "1          2   Male   28                Doctor             6.2   \n",
       "2          3   Male   28                Doctor             6.2   \n",
       "3          4   Male   28  Sales Representative             5.9   \n",
       "4          5   Male   28  Sales Representative             5.9   \n",
       "\n",
       "   Quality of Sleep  Physical Activity Level  Stress Level BMI Category  \\\n",
       "0                 6                       42             6   Overweight   \n",
       "1                 6                       60             8       Normal   \n",
       "2                 6                       60             8       Normal   \n",
       "3                 4                       30             8        Obese   \n",
       "4                 4                       30             8        Obese   \n",
       "\n",
       "  Blood Pressure  Heart Rate  Daily Steps Sleep Disorder  \n",
       "0         126/83          77         4200            NaN  \n",
       "1         125/80          75        10000            NaN  \n",
       "2         125/80          75        10000            NaN  \n",
       "3         140/90          85         3000    Sleep Apnea  \n",
       "4         140/90          85         3000    Sleep Apnea  "
      ]
     },
     "execution_count": 2,
     "metadata": {},
     "output_type": "execute_result"
    }
   ],
   "source": [
    "import pandas as pd\n",
    "\n",
    "# Font: https://www.kaggle.com/datasets/uom190346a/sleep-health-and-lifestyle-dataset\n",
    "\n",
    "file = \"data/Sleep_health_and_lifestyle_dataset.csv\"\n",
    "df = pd.read_csv(file)\n",
    "\n",
    "df.head()"
   ]
  },
  {
   "cell_type": "code",
   "execution_count": 5,
   "id": "dd213208",
   "metadata": {},
   "outputs": [
    {
     "data": {
      "application/vnd.plotly.v1+json": {
       "config": {
        "plotlyServerURL": "https://plot.ly"
       },
       "data": [
        {
         "dimensions": [
          {
           "label": "Quality of Sleep",
           "values": {
            "bdata": "BgYGBAQEBgcHBwYHBgYGBgUGBQcHBwcHBwcHBwcHBQUIBgcGBgcHBwcHBwcHBwcHBwcICAYHBgYHBgYHBgYGBgYGCAYGBgYGBgYGBgYGBgYEBAcHCAgICAgICAgIBwgICAgICAgICAUIBQYICAgICAgICAgICAgICAgICAgICAgICAgICAgICAgICAgICAgICAcIBQcJCQgICAgICAgICAgICAgICAgHBwgICAgICAgIBggICAgICAYGBwYHBgcGBgYGBgYGBgYGCAgGCAgICAgICAgICAgICAgIBgcGBgYHBgcGBwYHBgcGBwYGBwYGBwYGBwYHBgcGBgcHBwcHBwcHBwcHBwcHBwYHBgYGBgYGBgYGCQkGCQYGBgYGBgYGBgYGBgYGBgYGBgkJCQkHBgYGBwcHBwcHCQkJCQkJCQkJCQkJCQkJCQkJCQkJCQkJCQkJCQkJCQkJCQkJCQkJCQkJCQkJCQkJCQkJCQkJCQkJCQkJCQk=",
            "dtype": "i1"
           }
          },
          {
           "label": "Sleep Duration",
           "values": {
            "bdata": "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",
            "dtype": "f8"
           }
          },
          {
           "label": "Stress Level",
           "values": {
            "bdata": "BggICAgIBwYGBggGCAgICAcIBwYGBgYGBgYGBgYGBwcECAYICAYGBgYGBgYGBgYGBgYDAwgGCAgGCAgGCAgICAgIBggGBggICAgICAgICAgICAUFBQQEBAQEBAQFBQQEBAQEBAQEBAcEBwYEBAUEBQQFBAQEBAQEBAQEBAQEBQQFBQQFBQQFBQQFBAUEBQQEBQUFBwYDAwUFBQUFBQUFBQUGBgUFBQYGBgUFBQUFBQUFBwUFBQUFBQcHBAcEBwQHBwcHBwcHBwcHBQUHBAUFBQUFBQUFBQUFBQUFBwQHBwcEBwQHBAcEBwQHBAcHBAcHBAcHBAcEBwcHBwYGBAQEBAQEBAQEBAQFBQgFCAgICAgICAgIAwMIAwgICAgICAgICAgICAgICAgICAMDAwMGCAgIBwcHBwcHAwMDAwMDAwMDAwMDAwMDAwMDAwMDAwMDAwMDBAQDAwMDAwMDAwMDAwMDAwMDAwMDAwMDAwMDAwMDAwMDAwM=",
            "dtype": "i1"
           }
          },
          {
           "label": "Heart Rate",
           "values": {
            "bdata": "TUtLVVVVUkZGRkZGRkZGRlBGUEZGRkZGRkZGRkZGTk5FSEZISEZGRkZGRkZGRkZGRkZGRkhGSEhGSEhGSEhISEhIREhMTEhISEhISEhISEhRUUZGRkRBQUFBQUFGVEREREREREREREpESk1ERERERERERERERERERERERERGRERERERERERERERERERERERERFREUEtDQ0RERERERERERERJSURERkhISEZGRkZGRkZGSEZGRkZGRk5OQUhBSEFISEhISEhISEhIRkZFREZGRkZGRkZGRkZGRkZGSEFISEhBSEFIQUhBSEFIQUhIQUhIQUhIQUhBSE5ISEFBQUFBQUFBQUFBQUFLU0tTS0tLS0tLS0tLVlZLQUtLS0tLS0tLS0tLS0tLS0tLS0FBQUFIS0tLSEhISEhIQUFBQUFBQUFBQUFBQUFBQUFBQUFBQUFBQUFBSEhBQUREREREREREREREREREREREREREREREREREREREREQ=",
            "dtype": "i1"
           }
          },
          {
           "label": "Physical Activity Level",
           "values": {
            "bdata": "Kjw8Hh4eKEtLSx5LHh4eHigeKEtLS0tLS0tLS0tLIyNLHkseHktLS0tLS0tLS0tLS0stLR5LHh5LHh5LHh4eHh4eMh4yMh4eHh4eHh4eHh4gICgoPDw8PDw8PDw8PDw8PDw8PDw8PCM8IypGRjw8PDw8PDw8PDw8PDw8PDw8PDw8PDw8PDw8PDw8PDw8PDw8PDw8KDJQUDw8PDw8PDw8PDw3N1paWkY3N1paWlpaWlpaLVpaWlpaWi0tLS0tLS0tLS0tLS0tLS0tWlovS1paWlpaWlpaWlpaWlpaLS0tLS0tLS0tLS0tLS0tLS0tLS0tLS0tLS0tLS0tLR4eLS0tLS0tLS0tLS03QVpBWlpaWlpaWlpaVVVaHlpaWlpaWlpaWlpaWlpaWlpaWh4eHh43WlpaLS0tLS0tHh4eHh4eHh4eHh4eHh4eHh4eHh4eHh4eHh4eS0taWktLS0tLS0tLS0tLS0tLS0tLS0tLS0tLS0tLS0tLS0s=",
            "dtype": "i1"
           }
          },
          {
           "label": "Daily Steps",
           "values": {
            "bdata": "aBAQJxAnuAu4C7gLrA1AH0AfQB9AH0AfQB9AH0AfQB+gD0AfoA9AH0AfQB9AH0AfQB9AH0AfQB9AH0AfBBAEEJAaiBNAH4gTiBNAH0AfQB9AH0AfQB9AH0AfQB9AH0AfQB9AH0AfQB+IE0AfiBOIE0AfiBOIE0AfiBOIE4gTiBOIE4gTWBuIE3wVfBWIE4gTiBOIE4gTiBOIE4gTiBOIE1AUUBTgFeAVQB9YG4gTiBOIE4gTiBOIE0Af5AxYG1gbWBtYG1gbWBtYG1gbWBvAElgbwBJoEFgbWBtAH1gbQB9YG0AfWBtYG1gbWBtYG1gbWBtYG1gbWBtYG0AfQB9YG0AfQB9YG0AfQB9YG0AfQB9YG0AfWBtAH1gbQB9YG1gbQB/kDEAfoA98FUwdTB1AH0AfQB9AH0AfQB9AH0AfQB9AH4QchBxAH0AfQB84GHAXcBdAH0AfQB9AH0AfQB9AH0AfcBdAH0AfQB9AH0AfQB+IE4gTcBdwF3AXcBdwF3AXcBdwF3AXcBdwF3AXcBdwF3AXQB9AH5AakBpAH0AfQB9AH0AfQB9AH0AfQB9AH0AfQB9AH0AfcBdwF3AXcBdwF3AXcBdwF3AXcBdwF3AXcBdwF3AXcBdwF3AXcBdwF3AXcBdwF3AXcBdwF3AXcBeIE3AXcBdwF3AXcBdwF3AXcBdwF3AXcBdwF3AXcBdwF3wVrA0QJ6wNECcQJxAnECcQJxAnECcQJxAndA50DhAniBMQJxAnECcQJxAnECcQJxAnECcQJxAnECcQJxAnECcQJxAnECeIE4gTiBOIE3AXECcQJxAncBdwF3AXcBdwF3AXiBOIE4gTiBOIE4gTiBOIE4gTiBOIE4gTiBOIE4gTiBOIE4gTiBOIE4gTiBOIE4gTiBOIE4gTiBOIExAnECdYG1gbWBtYG1gbWBtYG1gbWBtYG1gbWBtYG1gbWBtYG1gbWBtYG1gbWBtYG1gbWBtYG1gbWBtYG1gbWBtYGw==",
            "dtype": "i2"
           }
          }
         ],
         "domain": {
          "x": [
           0,
           1
          ],
          "y": [
           0,
           1
          ]
         },
         "line": {
          "color": {
           "bdata": "BgYGBAQEBgcHBwYHBgYGBgUGBQcHBwcHBwcHBwcHBQUIBgcGBgcHBwcHBwcHBwcHBwcICAYHBgYHBgYHBgYGBgYGCAYGBgYGBgYGBgYGBgYEBAcHCAgICAgICAgIBwgICAgICAgICAUIBQYICAgICAgICAgICAgICAgICAgICAgICAgICAgICAgICAgICAgICAcIBQcJCQgICAgICAgICAgICAgICAgHBwgICAgICAgIBggICAgICAYGBwYHBgcGBgYGBgYGBgYGCAgGCAgICAgICAgICAgICAgIBgcGBgYHBgcGBwYHBgcGBwYGBwYGBwYGBwYHBgcGBgcHBwcHBwcHBwcHBwcHBwYHBgYGBgYGBgYGCQkGCQYGBgYGBgYGBgYGBgYGBgYGBgkJCQkHBgYGBwcHBwcHCQkJCQkJCQkJCQkJCQkJCQkJCQkJCQkJCQkJCQkJCQkJCQkJCQkJCQkJCQkJCQkJCQkJCQkJCQkJCQkJCQk=",
           "dtype": "i1"
          },
          "coloraxis": "coloraxis"
         },
         "name": "",
         "type": "parcoords"
        }
       ],
       "layout": {
        "coloraxis": {
         "colorbar": {
          "title": {
           "text": "Quality of Sleep"
          }
         },
         "colorscale": [
          [
           0,
           "rgb(158,1,66)"
          ],
          [
           0.1,
           "rgb(213,62,79)"
          ],
          [
           0.2,
           "rgb(244,109,67)"
          ],
          [
           0.3,
           "rgb(253,174,97)"
          ],
          [
           0.4,
           "rgb(254,224,139)"
          ],
          [
           0.5,
           "rgb(255,255,191)"
          ],
          [
           0.6,
           "rgb(230,245,152)"
          ],
          [
           0.7,
           "rgb(171,221,164)"
          ],
          [
           0.8,
           "rgb(102,194,165)"
          ],
          [
           0.9,
           "rgb(50,136,189)"
          ],
          [
           1,
           "rgb(94,79,162)"
          ]
         ]
        },
        "legend": {
         "tracegroupgap": 0
        },
        "template": {
         "data": {
          "bar": [
           {
            "error_x": {
             "color": "#2a3f5f"
            },
            "error_y": {
             "color": "#2a3f5f"
            },
            "marker": {
             "line": {
              "color": "#E5ECF6",
              "width": 0.5
             },
             "pattern": {
              "fillmode": "overlay",
              "size": 10,
              "solidity": 0.2
             }
            },
            "type": "bar"
           }
          ],
          "barpolar": [
           {
            "marker": {
             "line": {
              "color": "#E5ECF6",
              "width": 0.5
             },
             "pattern": {
              "fillmode": "overlay",
              "size": 10,
              "solidity": 0.2
             }
            },
            "type": "barpolar"
           }
          ],
          "carpet": [
           {
            "aaxis": {
             "endlinecolor": "#2a3f5f",
             "gridcolor": "white",
             "linecolor": "white",
             "minorgridcolor": "white",
             "startlinecolor": "#2a3f5f"
            },
            "baxis": {
             "endlinecolor": "#2a3f5f",
             "gridcolor": "white",
             "linecolor": "white",
             "minorgridcolor": "white",
             "startlinecolor": "#2a3f5f"
            },
            "type": "carpet"
           }
          ],
          "choropleth": [
           {
            "colorbar": {
             "outlinewidth": 0,
             "ticks": ""
            },
            "type": "choropleth"
           }
          ],
          "contour": [
           {
            "colorbar": {
             "outlinewidth": 0,
             "ticks": ""
            },
            "colorscale": [
             [
              0,
              "#0d0887"
             ],
             [
              0.1111111111111111,
              "#46039f"
             ],
             [
              0.2222222222222222,
              "#7201a8"
             ],
             [
              0.3333333333333333,
              "#9c179e"
             ],
             [
              0.4444444444444444,
              "#bd3786"
             ],
             [
              0.5555555555555556,
              "#d8576b"
             ],
             [
              0.6666666666666666,
              "#ed7953"
             ],
             [
              0.7777777777777778,
              "#fb9f3a"
             ],
             [
              0.8888888888888888,
              "#fdca26"
             ],
             [
              1,
              "#f0f921"
             ]
            ],
            "type": "contour"
           }
          ],
          "contourcarpet": [
           {
            "colorbar": {
             "outlinewidth": 0,
             "ticks": ""
            },
            "type": "contourcarpet"
           }
          ],
          "heatmap": [
           {
            "colorbar": {
             "outlinewidth": 0,
             "ticks": ""
            },
            "colorscale": [
             [
              0,
              "#0d0887"
             ],
             [
              0.1111111111111111,
              "#46039f"
             ],
             [
              0.2222222222222222,
              "#7201a8"
             ],
             [
              0.3333333333333333,
              "#9c179e"
             ],
             [
              0.4444444444444444,
              "#bd3786"
             ],
             [
              0.5555555555555556,
              "#d8576b"
             ],
             [
              0.6666666666666666,
              "#ed7953"
             ],
             [
              0.7777777777777778,
              "#fb9f3a"
             ],
             [
              0.8888888888888888,
              "#fdca26"
             ],
             [
              1,
              "#f0f921"
             ]
            ],
            "type": "heatmap"
           }
          ],
          "histogram": [
           {
            "marker": {
             "pattern": {
              "fillmode": "overlay",
              "size": 10,
              "solidity": 0.2
             }
            },
            "type": "histogram"
           }
          ],
          "histogram2d": [
           {
            "colorbar": {
             "outlinewidth": 0,
             "ticks": ""
            },
            "colorscale": [
             [
              0,
              "#0d0887"
             ],
             [
              0.1111111111111111,
              "#46039f"
             ],
             [
              0.2222222222222222,
              "#7201a8"
             ],
             [
              0.3333333333333333,
              "#9c179e"
             ],
             [
              0.4444444444444444,
              "#bd3786"
             ],
             [
              0.5555555555555556,
              "#d8576b"
             ],
             [
              0.6666666666666666,
              "#ed7953"
             ],
             [
              0.7777777777777778,
              "#fb9f3a"
             ],
             [
              0.8888888888888888,
              "#fdca26"
             ],
             [
              1,
              "#f0f921"
             ]
            ],
            "type": "histogram2d"
           }
          ],
          "histogram2dcontour": [
           {
            "colorbar": {
             "outlinewidth": 0,
             "ticks": ""
            },
            "colorscale": [
             [
              0,
              "#0d0887"
             ],
             [
              0.1111111111111111,
              "#46039f"
             ],
             [
              0.2222222222222222,
              "#7201a8"
             ],
             [
              0.3333333333333333,
              "#9c179e"
             ],
             [
              0.4444444444444444,
              "#bd3786"
             ],
             [
              0.5555555555555556,
              "#d8576b"
             ],
             [
              0.6666666666666666,
              "#ed7953"
             ],
             [
              0.7777777777777778,
              "#fb9f3a"
             ],
             [
              0.8888888888888888,
              "#fdca26"
             ],
             [
              1,
              "#f0f921"
             ]
            ],
            "type": "histogram2dcontour"
           }
          ],
          "mesh3d": [
           {
            "colorbar": {
             "outlinewidth": 0,
             "ticks": ""
            },
            "type": "mesh3d"
           }
          ],
          "parcoords": [
           {
            "line": {
             "colorbar": {
              "outlinewidth": 0,
              "ticks": ""
             }
            },
            "type": "parcoords"
           }
          ],
          "pie": [
           {
            "automargin": true,
            "type": "pie"
           }
          ],
          "scatter": [
           {
            "fillpattern": {
             "fillmode": "overlay",
             "size": 10,
             "solidity": 0.2
            },
            "type": "scatter"
           }
          ],
          "scatter3d": [
           {
            "line": {
             "colorbar": {
              "outlinewidth": 0,
              "ticks": ""
             }
            },
            "marker": {
             "colorbar": {
              "outlinewidth": 0,
              "ticks": ""
             }
            },
            "type": "scatter3d"
           }
          ],
          "scattercarpet": [
           {
            "marker": {
             "colorbar": {
              "outlinewidth": 0,
              "ticks": ""
             }
            },
            "type": "scattercarpet"
           }
          ],
          "scattergeo": [
           {
            "marker": {
             "colorbar": {
              "outlinewidth": 0,
              "ticks": ""
             }
            },
            "type": "scattergeo"
           }
          ],
          "scattergl": [
           {
            "marker": {
             "colorbar": {
              "outlinewidth": 0,
              "ticks": ""
             }
            },
            "type": "scattergl"
           }
          ],
          "scattermap": [
           {
            "marker": {
             "colorbar": {
              "outlinewidth": 0,
              "ticks": ""
             }
            },
            "type": "scattermap"
           }
          ],
          "scattermapbox": [
           {
            "marker": {
             "colorbar": {
              "outlinewidth": 0,
              "ticks": ""
             }
            },
            "type": "scattermapbox"
           }
          ],
          "scatterpolar": [
           {
            "marker": {
             "colorbar": {
              "outlinewidth": 0,
              "ticks": ""
             }
            },
            "type": "scatterpolar"
           }
          ],
          "scatterpolargl": [
           {
            "marker": {
             "colorbar": {
              "outlinewidth": 0,
              "ticks": ""
             }
            },
            "type": "scatterpolargl"
           }
          ],
          "scatterternary": [
           {
            "marker": {
             "colorbar": {
              "outlinewidth": 0,
              "ticks": ""
             }
            },
            "type": "scatterternary"
           }
          ],
          "surface": [
           {
            "colorbar": {
             "outlinewidth": 0,
             "ticks": ""
            },
            "colorscale": [
             [
              0,
              "#0d0887"
             ],
             [
              0.1111111111111111,
              "#46039f"
             ],
             [
              0.2222222222222222,
              "#7201a8"
             ],
             [
              0.3333333333333333,
              "#9c179e"
             ],
             [
              0.4444444444444444,
              "#bd3786"
             ],
             [
              0.5555555555555556,
              "#d8576b"
             ],
             [
              0.6666666666666666,
              "#ed7953"
             ],
             [
              0.7777777777777778,
              "#fb9f3a"
             ],
             [
              0.8888888888888888,
              "#fdca26"
             ],
             [
              1,
              "#f0f921"
             ]
            ],
            "type": "surface"
           }
          ],
          "table": [
           {
            "cells": {
             "fill": {
              "color": "#EBF0F8"
             },
             "line": {
              "color": "white"
             }
            },
            "header": {
             "fill": {
              "color": "#C8D4E3"
             },
             "line": {
              "color": "white"
             }
            },
            "type": "table"
           }
          ]
         },
         "layout": {
          "annotationdefaults": {
           "arrowcolor": "#2a3f5f",
           "arrowhead": 0,
           "arrowwidth": 1
          },
          "autotypenumbers": "strict",
          "coloraxis": {
           "colorbar": {
            "outlinewidth": 0,
            "ticks": ""
           }
          },
          "colorscale": {
           "diverging": [
            [
             0,
             "#8e0152"
            ],
            [
             0.1,
             "#c51b7d"
            ],
            [
             0.2,
             "#de77ae"
            ],
            [
             0.3,
             "#f1b6da"
            ],
            [
             0.4,
             "#fde0ef"
            ],
            [
             0.5,
             "#f7f7f7"
            ],
            [
             0.6,
             "#e6f5d0"
            ],
            [
             0.7,
             "#b8e186"
            ],
            [
             0.8,
             "#7fbc41"
            ],
            [
             0.9,
             "#4d9221"
            ],
            [
             1,
             "#276419"
            ]
           ],
           "sequential": [
            [
             0,
             "#0d0887"
            ],
            [
             0.1111111111111111,
             "#46039f"
            ],
            [
             0.2222222222222222,
             "#7201a8"
            ],
            [
             0.3333333333333333,
             "#9c179e"
            ],
            [
             0.4444444444444444,
             "#bd3786"
            ],
            [
             0.5555555555555556,
             "#d8576b"
            ],
            [
             0.6666666666666666,
             "#ed7953"
            ],
            [
             0.7777777777777778,
             "#fb9f3a"
            ],
            [
             0.8888888888888888,
             "#fdca26"
            ],
            [
             1,
             "#f0f921"
            ]
           ],
           "sequentialminus": [
            [
             0,
             "#0d0887"
            ],
            [
             0.1111111111111111,
             "#46039f"
            ],
            [
             0.2222222222222222,
             "#7201a8"
            ],
            [
             0.3333333333333333,
             "#9c179e"
            ],
            [
             0.4444444444444444,
             "#bd3786"
            ],
            [
             0.5555555555555556,
             "#d8576b"
            ],
            [
             0.6666666666666666,
             "#ed7953"
            ],
            [
             0.7777777777777778,
             "#fb9f3a"
            ],
            [
             0.8888888888888888,
             "#fdca26"
            ],
            [
             1,
             "#f0f921"
            ]
           ]
          },
          "colorway": [
           "#636efa",
           "#EF553B",
           "#00cc96",
           "#ab63fa",
           "#FFA15A",
           "#19d3f3",
           "#FF6692",
           "#B6E880",
           "#FF97FF",
           "#FECB52"
          ],
          "font": {
           "color": "#2a3f5f"
          },
          "geo": {
           "bgcolor": "white",
           "lakecolor": "white",
           "landcolor": "#E5ECF6",
           "showlakes": true,
           "showland": true,
           "subunitcolor": "white"
          },
          "hoverlabel": {
           "align": "left"
          },
          "hovermode": "closest",
          "mapbox": {
           "style": "light"
          },
          "paper_bgcolor": "white",
          "plot_bgcolor": "#E5ECF6",
          "polar": {
           "angularaxis": {
            "gridcolor": "white",
            "linecolor": "white",
            "ticks": ""
           },
           "bgcolor": "#E5ECF6",
           "radialaxis": {
            "gridcolor": "white",
            "linecolor": "white",
            "ticks": ""
           }
          },
          "scene": {
           "xaxis": {
            "backgroundcolor": "#E5ECF6",
            "gridcolor": "white",
            "gridwidth": 2,
            "linecolor": "white",
            "showbackground": true,
            "ticks": "",
            "zerolinecolor": "white"
           },
           "yaxis": {
            "backgroundcolor": "#E5ECF6",
            "gridcolor": "white",
            "gridwidth": 2,
            "linecolor": "white",
            "showbackground": true,
            "ticks": "",
            "zerolinecolor": "white"
           },
           "zaxis": {
            "backgroundcolor": "#E5ECF6",
            "gridcolor": "white",
            "gridwidth": 2,
            "linecolor": "white",
            "showbackground": true,
            "ticks": "",
            "zerolinecolor": "white"
           }
          },
          "shapedefaults": {
           "line": {
            "color": "#2a3f5f"
           }
          },
          "ternary": {
           "aaxis": {
            "gridcolor": "white",
            "linecolor": "white",
            "ticks": ""
           },
           "baxis": {
            "gridcolor": "white",
            "linecolor": "white",
            "ticks": ""
           },
           "bgcolor": "#E5ECF6",
           "caxis": {
            "gridcolor": "white",
            "linecolor": "white",
            "ticks": ""
           }
          },
          "title": {
           "x": 0.05
          },
          "xaxis": {
           "automargin": true,
           "gridcolor": "white",
           "linecolor": "white",
           "ticks": "",
           "title": {
            "standoff": 15
           },
           "zerolinecolor": "white",
           "zerolinewidth": 2
          },
          "yaxis": {
           "automargin": true,
           "gridcolor": "white",
           "linecolor": "white",
           "ticks": "",
           "title": {
            "standoff": 15
           },
           "zerolinecolor": "white",
           "zerolinewidth": 2
          }
         }
        },
        "title": {
         "text": "Son saluable i estil de vida"
        }
       }
      }
     },
     "metadata": {},
     "output_type": "display_data"
    }
   ],
   "source": [
    "import plotly.express as px\n",
    "\n",
    "# Creem un gràfic de coordenades paral·leles\n",
    "fig = px.parallel_coordinates(df, color = df[\"Quality of Sleep\"], dimensions=[\"Quality of Sleep\", \"Sleep Duration\", \"Stress Level\", \"Heart Rate\", \"Physical Activity Level\", \"Daily Steps\"],\n",
    "                             color_continuous_scale=px.colors.diverging.Spectral, title=\"Son saluable i estil de vida\",)\n",
    "fig.show()"
   ]
  }
 ],
 "metadata": {
  "kernelspec": {
   "display_name": "python_3_11",
   "language": "python",
   "name": "python3"
  },
  "language_info": {
   "codemirror_mode": {
    "name": "ipython",
    "version": 3
   },
   "file_extension": ".py",
   "mimetype": "text/x-python",
   "name": "python",
   "nbconvert_exporter": "python",
   "pygments_lexer": "ipython3",
   "version": "3.11.11"
  }
 },
 "nbformat": 4,
 "nbformat_minor": 5
}
